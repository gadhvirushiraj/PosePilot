{
 "cells": [
  {
   "cell_type": "markdown",
   "metadata": {},
   "source": [
    "#### stores data of landmarks for all data into .csv under pose_data folder"
   ]
  },
  {
   "cell_type": "code",
   "execution_count": 20,
   "metadata": {},
   "outputs": [],
   "source": [
    "import os\n",
    "import cv2\n",
    "import json\n",
    "import pandas as pd\n",
    "import mediapipe as mp"
   ]
  },
  {
   "cell_type": "code",
   "execution_count": 21,
   "metadata": {},
   "outputs": [],
   "source": [
    "mp_pose = mp.solutions.pose\n",
    "mp_drawing = mp.solutions.drawing_utils\n",
    "mp_drawing_styles = mp.solutions.drawing_styles\n",
    "\n",
    "custom_style = mp_drawing_styles.get_default_pose_landmarks_style()\n",
    "custom_connections = list(mp_pose.POSE_CONNECTIONS)"
   ]
  },
  {
   "cell_type": "code",
   "execution_count": 22,
   "metadata": {},
   "outputs": [],
   "source": [
    "def detect(img):\n",
    "\n",
    "    data = []\n",
    "    # Create a Pose object\n",
    "    with mp_pose.Pose(min_detection_confidence=0.5, min_tracking_confidence=0.5) as pose:\n",
    "        # Process the image to detect body pose\n",
    "        results = pose.process(img)\n",
    "\n",
    "        if results.pose_landmarks:\n",
    "            # Draw the landmarks on the image\n",
    "            mp_drawing.draw_landmarks(\n",
    "                img, results.pose_landmarks, mp_pose.POSE_CONNECTIONS)\n",
    "        \n",
    "            # Save the landmarks in a DataFrame\n",
    "            for landmark in results.pose_landmarks.landmark:\n",
    "                data += [landmark.x, landmark.y, landmark.z, landmark.visibility]\n",
    "\n",
    "    return img, data"
   ]
  },
  {
   "cell_type": "code",
   "execution_count": 23,
   "metadata": {},
   "outputs": [
    {
     "name": "stderr",
     "output_type": "stream",
     "text": [
      "libpng warning: iCCP: known incorrect sRGB profile\n",
      "libpng warning: iCCP: known incorrect sRGB profile\n",
      "Premature end of JPEG file\n",
      "libpng warning: iCCP: known incorrect sRGB profile\n",
      "libpng warning: iCCP: known incorrect sRGB profile\n",
      "libpng warning: iCCP: known incorrect sRGB profile\n",
      "Corrupt JPEG data: premature end of data segment\n",
      "libpng warning: iCCP: known incorrect sRGB profile\n",
      "libpng warning: iCCP: known incorrect sRGB profile\n"
     ]
    }
   ],
   "source": [
    "if not os.path.exists('pose_data'):\n",
    "    os.makedirs('pose_data')\n",
    "\n",
    "poses = os.listdir('data')\n",
    "poses.remove('.DS_Store')\n",
    "\n",
    "for i in poses:\n",
    "    files = os.listdir('data/' + i)\n",
    "\n",
    "    pose_data = []\n",
    "    for j in files:\n",
    "        img = cv2.imread('data/' + i + '/' + j)\n",
    "\n",
    "        if img is None:\n",
    "            continue\n",
    "        \n",
    "        img = cv2.cvtColor(img, cv2.COLOR_BGR2RGB)\n",
    "        img, img_data = detect(img)\n",
    "        if img_data != []:\n",
    "            pose_data.append(img_data)\n",
    "\n",
    "        print('Processed: ' + j)\n",
    "\n",
    "    df = pd.DataFrame(pose_data)\n",
    "    df.to_csv( 'pose_data/' + i + '_data.csv', index=False)"
   ]
  },
  {
   "cell_type": "code",
   "execution_count": null,
   "metadata": {},
   "outputs": [],
   "source": [
    "# making a mapping json file\n",
    "mapping = {}\n",
    "poses.sort()\n",
    "\n",
    "for i in range(len(poses)):\n",
    "    mapping[i] = poses[i]\n",
    "\n",
    "with open('mapping.json', 'w') as f:\n",
    "    json.dump(mapping, f, indent=4)"
   ]
  }
 ],
 "metadata": {
  "kernelspec": {
   "display_name": "Python 3",
   "language": "python",
   "name": "python3"
  },
  "language_info": {
   "codemirror_mode": {
    "name": "ipython",
    "version": 3
   },
   "file_extension": ".py",
   "mimetype": "text/x-python",
   "name": "python",
   "nbconvert_exporter": "python",
   "pygments_lexer": "ipython3",
   "version": "3.11.3"
  },
  "orig_nbformat": 4
 },
 "nbformat": 4,
 "nbformat_minor": 2
}
